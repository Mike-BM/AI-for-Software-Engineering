{
 "cells": [
  {
   "cell_type": "code",
   "execution_count": 1,
   "id": "4dbc0fcb-b162-4e29-8727-3c7383145018",
   "metadata": {},
   "outputs": [
    {
     "name": "stdout",
     "output_type": "stream",
     "text": [
      "[{'name': 'Bob', 'age': 25}, {'name': 'Alice', 'age': 30}, {'name': 'Charlie', 'age': 35}]\n",
      "Script started\n",
      "Sorted by age:\n",
      "{'name': 'Bob', 'age': 25}\n",
      "{'name': 'Alice', 'age': 30}\n",
      "{'name': 'Charlie', 'age': 35}\n"
     ]
    }
   ],
   "source": [
    "#Code Implementation using Copilot by a specific key\n",
    "\n",
    "def sort_dicts_by_key(dicts, key, reverse=False):\n",
    "    \"\"\"\n",
    "    Sorts a list of dictionaries by a specified key.\n",
    "\n",
    "    Args:\n",
    "        dicts (list): List of dictionaries to sort.\n",
    "        key (str): The key to sort the dictionaries by.\n",
    "        reverse (bool): Whether to sort in descending order. Default is False.\n",
    "\n",
    "    Returns:\n",
    "        list: Sorted list of dictionaries.\n",
    "    \"\"\"\n",
    "    return sorted(dicts, key=lambda d: d.get(key, None), reverse=reverse)\n",
    "\n",
    "data = [\n",
    "    {\"name\": \"Alice\", \"age\": 30},\n",
    "    {\"name\": \"Bob\", \"age\": 25},\n",
    "    {\"name\": \"Charlie\", \"age\": 35}\n",
    "]\n",
    "\n",
    "sorted_data = sort_dicts_by_key(data, \"age\")\n",
    "print(sorted_data)\n",
    "\n",
    "\n",
    "#Sort_dictionary_manual.py\n",
    "# Manual implementation to sort a list of dicts by a key\n",
    "# sort_dicts_manual.py\n",
    "\n",
    "print(\"Script started\")\n",
    "\n",
    "\n",
    "def sort_dicts_by_key(data, key):\n",
    "    \"\"\"\n",
    "    Sorts a list of dictionaries based on a specific key.\n",
    "    \"\"\"\n",
    "    return sorted(data, key=lambda x: x[key])\n",
    "\n",
    "\n",
    "if __name__ == \"__main__\":\n",
    "    sample_data = [\n",
    "        {\"name\": \"Alice\", \"age\": 30},\n",
    "        {\"name\": \"Bob\", \"age\": 25},\n",
    "        {\"name\": \"Charlie\", \"age\": 35}\n",
    "    ]\n",
    "\n",
    "    sorted_data = sort_dicts_by_key(sample_data, \"age\")\n",
    "    print(\"Sorted by age:\")\n",
    "    for item in sorted_data:\n",
    "        print(item)\n",
    "\n"
   ]
  },
  {
   "cell_type": "code",
   "execution_count": 2,
   "id": "e71e6ab3-731d-4ce1-990e-edfcd8a476a3",
   "metadata": {},
   "outputs": [],
   "source": [
    "#COMPARISON\n",
    "#Copilot Implementation: Benefits from Python’s optimized Timsort algorithm under the hood, resulting in much better performance (O(n log n)).\n",
    "#Manual Implementation: Usually less efficient (often O(n²) for simple sorts like selection sort), making it unsuitable for large lists.\n",
    "#Copilot Implementation: Handles missing keys easily using d.get(key, None) and integrates well with other Python features.\n",
    "#Manual Implementation: Requires explicit handling of missing keys, which can add complexity and risk of bugs.\n",
    "#Copilot Implementation: Ideal for production code due to its reliability, speed, and simplicity.\n",
    "#Manual Implementation: Best for educational purposes, as it exposes how sorting works internally, but not recommended for production.\n",
    "#Copilot Implementation: Less error-prone since it leverages well-tested Python internals.\n",
    "#Manual Implementation: More error-prone due to manual implementation details.\n",
    "#Manual Implementation: Adding features like reverse may require additional code and careful logic."
   ]
  },
  {
   "cell_type": "code",
   "execution_count": null,
   "id": "ab5f6ff8-400e-4a02-a1d7-7f4fb8cf0360",
   "metadata": {},
   "outputs": [],
   "source": [
    "#The AI-generated function is concise, leveraging Python’s built-in sorted() function and lambda expressions. It is optimized, readable, and adheres to Pythonic best practices. The sorted() function internally uses Timsort, an efficient hybrid sorting algorithm with  time complexity in the average case, making it suitable for large datasets.\n",
    "\n",
    "In contrast, the manual implementation mimics a selection or bubble sort approach with nested loops. This results in O(n²) time complexity, which performs poorly as the dataset grows. Additionally, it is more verbose, less readable, and prone to errors when handling missing keys or diverse value types.\n",
    "\n",
    "AI code completion tools like GitHub Copilot can instantly suggest optimized solutions by understanding the function name and context. This saves developers time and improves the quality of boilerplate code. However, Copilot doesn’t always explain why a solution works, so understanding and reviewing AI-generated code is still necessary.\n",
    "\n",
    "In conclusion, the AI-generated code is significantly more efficient and maintainable. While manual implementations help in understanding the logic, AI tools accelerate development without sacrificing performance, especially for well-defined, repetitive tasks."
   ]
  }
 ],
 "metadata": {
  "kernelspec": {
   "display_name": "anaconda-2024.02-py310",
   "language": "python",
   "name": "conda-env-anaconda-2024.02-py310-py"
  },
  "language_info": {
   "codemirror_mode": {
    "name": "ipython",
    "version": 3
   },
   "file_extension": ".py",
   "mimetype": "text/x-python",
   "name": "python",
   "nbconvert_exporter": "python",
   "pygments_lexer": "ipython3",
   "version": "3.10.14"
  }
 },
 "nbformat": 4,
 "nbformat_minor": 5
}
